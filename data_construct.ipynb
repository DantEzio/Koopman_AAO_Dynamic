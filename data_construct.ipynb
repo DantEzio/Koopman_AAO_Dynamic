{
 "cells": [
  {
   "cell_type": "code",
   "execution_count": 1,
   "metadata": {},
   "outputs": [],
   "source": [
    "import numpy as np\n",
    "import pandas as pd\n",
    "import data_process as dp\n",
    "import matplotlib.pyplot as plt"
   ]
  },
  {
   "cell_type": "code",
   "execution_count": 2,
   "metadata": {},
   "outputs": [
    {
     "name": "stdout",
     "output_type": "stream",
     "text": [
      "Index(['Unnamed: 0', '日期', '出水COD', '出水TN', '出水TP', '出水氨氮', '出水NO3-',\n",
      "       '6-1号生物池好氧段MLSS', '6-1号生物池缺氧段MLSS', '6-1号生物池厌氧段MLSS', '6-1号生物池缺氧段OPR',\n",
      "       '6-1号生物池厌氧段OPR', '6-1生物池DO1', '6-1生物池DO2', '6-1生物池DO3', '6-1生物池DO4',\n",
      "       '6-1号生物池好氧段NO3', '进水COD', '进水PH', '进水温度', '进水氨氮', '进水TP', '进水TN',\n",
      "       '进水SS', '1号生物反应池瞬时流量', '6-1好氧段曝气量1', '6-1好氧段曝气量2', '6-1好氧段曝气量3',\n",
      "       '6-1好氧段曝气量4', '7-1外回流流量1', '内回流流量1', '生物池DO', '好氧段曝气量'],\n",
      "      dtype='object')\n"
     ]
    }
   ],
   "source": [
    "data = pd.read_csv('data.csv')\n",
    "DOdata=data[['6-1生物池DO1','6-1生物池DO2','6-1生物池DO3','6-1生物池DO4']].mean(axis=1)\n",
    "data['生物池DO']=DOdata\n",
    "DOdata=data[['6-1好氧段曝气量1','6-1好氧段曝气量2','6-1好氧段曝气量3','6-1好氧段曝气量4']].mean(axis=1)\n",
    "data['好氧段曝气量']=DOdata\n",
    "print(data.columns)"
   ]
  },
  {
   "cell_type": "code",
   "execution_count": 3,
   "metadata": {},
   "outputs": [],
   "source": [
    "sdata=data[['6-1号生物池好氧段MLSS', '6-1号生物池缺氧段MLSS', '6-1号生物池厌氧段MLSS', \n",
    "            '6-1号生物池缺氧段OPR','6-1号生物池厌氧段OPR','生物池DO','1号生物反应池瞬时流量']]\n",
    "cdata=data[['好氧段曝气量','7-1外回流流量1', '内回流流量1']]\n",
    "idata=data[['进水COD', '进水PH', '进水温度', '进水氨氮', '进水TP', '进水TN', '进水SS']]\n",
    "odata=data[['出水COD', '出水TN', '出水TP', '出水氨氮', '出水NO3-']]"
   ]
  },
  {
   "attachments": {},
   "cell_type": "markdown",
   "metadata": {},
   "source": [
    "# Reconstruct training and test data"
   ]
  },
  {
   "cell_type": "code",
   "execution_count": 4,
   "metadata": {},
   "outputs": [],
   "source": [
    "t_sDATA,smaxd,smind=dp.normlize_F(sdata.values)\n",
    "t_cDATA,cmaxd,cmind=dp.normlize_F(cdata.values)\n",
    "t_iDATA,imaxd,imind=dp.normlize_F(idata.values)\n",
    "t_oDATA,omaxd,omind=dp.normlize_F(odata.values)"
   ]
  },
  {
   "cell_type": "code",
   "execution_count": 5,
   "metadata": {},
   "outputs": [],
   "source": [
    "np.save('./tem_data/sDatamax.npy',smaxd)\n",
    "np.save('./tem_data/sDatamin.npy',smind)\n",
    "np.save('./tem_data/cDatamax.npy',cmaxd)\n",
    "np.save('./tem_data/cDatamin.npy',cmind)\n",
    "np.save('./tem_data/iDatamax.npy',imaxd)\n",
    "np.save('./tem_data/iDatamin.npy',imind)\n",
    "np.save('./tem_data/oDatamax.npy',omaxd)\n",
    "np.save('./tem_data/oDatamin.npy',omind)"
   ]
  },
  {
   "cell_type": "code",
   "execution_count": 6,
   "metadata": {},
   "outputs": [],
   "source": [
    "HRT=84 # time=7 hour, equal to 84 steps\n",
    "outstep=6 # predict 30 min, equal to 6 steps\n",
    "n=data.shape[0]\n",
    "trainingset=[np.random.randint(HRT+10,n-outstep,1)[0] for _ in range(1000)]\n",
    "valset=[np.random.randint(HRT+10,n-outstep,1)[0] for _ in range(500)]\n",
    "np.save('./tem_data/v3/trainingset.npy',trainingset)\n",
    "np.save('./tem_data/v3/valset.npy',valset)"
   ]
  },
  {
   "cell_type": "code",
   "execution_count": 7,
   "metadata": {},
   "outputs": [],
   "source": [
    "sTrain,cTrain,iTrain,oTrain,oTrain_out=[],[],[],[],[]\n",
    "sVal,cVal,iVal,oVal,oVal_out=[],[],[],[],[]\n",
    "sTest,cTest,iTest,oTest,oTest_out=[],[],[],[],[]\n",
    "\n",
    "for i in range(HRT+10,n-outstep):\n",
    "\n",
    "    if i in trainingset:\n",
    "        sTrain.append(t_sDATA[i-HRT:i,:].reshape((1,-1))[0].tolist())\n",
    "        cTrain.append(t_cDATA[i-HRT:i,:].reshape((1,-1))[0].tolist())\n",
    "        iTrain.append(t_iDATA[i-HRT:i,:].reshape((1,-1))[0].tolist())\n",
    "        oTrain.append(t_oDATA[i,:].tolist())\n",
    "        oTrain_out.append(t_oDATA[i+outstep,:].tolist())\n",
    "    elif i in valset:\n",
    "        sVal.append(t_sDATA[i-HRT:i,:].reshape((1,-1))[0].tolist())\n",
    "        cVal.append(t_cDATA[i-HRT:i,:].reshape((1,-1))[0].tolist())\n",
    "        iVal.append(t_iDATA[i-HRT:i,:].reshape((1,-1))[0].tolist())\n",
    "        oVal.append(t_oDATA[i,:].tolist())\n",
    "        oVal_out.append(t_oDATA[i+outstep,:].tolist())\n",
    "    sTest.append(t_sDATA[i-HRT:i,:].reshape((1,-1))[0].tolist())\n",
    "    cTest.append(t_cDATA[i-HRT:i,:].reshape((1,-1))[0].tolist())\n",
    "    iTest.append(t_iDATA[i-HRT:i,:].reshape((1,-1))[0].tolist())\n",
    "    oTest.append(t_oDATA[i,:].tolist())\n",
    "    oTest_out.append(t_oDATA[i+outstep,:].tolist())\n",
    "\n",
    "# Training set\n",
    "sTrain=np.array(sTrain)\n",
    "cTrain=np.array(cTrain)\n",
    "iTrain=np.array(iTrain)\n",
    "oTrain=np.array(oTrain)\n",
    "oTrain_out=np.array(oTrain_out)\n",
    "\n",
    "# Validation set\n",
    "sVal=np.array(sVal)\n",
    "cVal=np.array(cVal)\n",
    "iVal=np.array(iVal)\n",
    "oVal=np.array(oVal)\n",
    "oVal_out=np.array(oVal_out)\n",
    "\n",
    "# Test set\n",
    "sTest=np.array(sTest)\n",
    "cTest=np.array(cTest)\n",
    "iTest=np.array(iTest)\n",
    "oTest=np.array(oTest)\n",
    "oTest_out=np.array(oTest_out)"
   ]
  },
  {
   "cell_type": "code",
   "execution_count": 8,
   "metadata": {},
   "outputs": [],
   "source": [
    "# save data\n",
    "np.save('./tem_data/v3/sTrain.npy',sTrain)\n",
    "np.save('./tem_data/v3/cTrain.npy',cTrain)\n",
    "np.save('./tem_data/v3/iTrain.npy',iTrain)\n",
    "np.save('./tem_data/v3/oTrain.npy',oTrain)\n",
    "np.save('./tem_data/v3/oTrain_out.npy',oTrain_out)\n",
    "\n",
    "np.save('./tem_data/v3/sVal.npy',sVal)\n",
    "np.save('./tem_data/v3/cVal.npy',cVal)\n",
    "np.save('./tem_data/v3/iVal.npy',iVal)\n",
    "np.save('./tem_data/v3/oVal.npy',oVal)\n",
    "np.save('./tem_data/v3/oVal_out.npy',oVal_out)\n",
    "\n",
    "np.save('./tem_data/v3/sTest.npy',sTest)\n",
    "np.save('./tem_data/v3/cTest.npy',cTest)\n",
    "np.save('./tem_data/v3/iTest.npy',iTest)\n",
    "np.save('./tem_data/v3/oTest.npy',oTest)\n",
    "np.save('./tem_data/v3/oTest_out.npy',oTest_out)"
   ]
  }
 ],
 "metadata": {
  "kernelspec": {
   "display_name": "base",
   "language": "python",
   "name": "python3"
  },
  "language_info": {
   "codemirror_mode": {
    "name": "ipython",
    "version": 3
   },
   "file_extension": ".py",
   "mimetype": "text/x-python",
   "name": "python",
   "nbconvert_exporter": "python",
   "pygments_lexer": "ipython3",
   "version": "3.9.13"
  },
  "orig_nbformat": 4
 },
 "nbformat": 4,
 "nbformat_minor": 2
}
