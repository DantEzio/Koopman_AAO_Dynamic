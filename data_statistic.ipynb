{
 "cells": [
  {
   "cell_type": "code",
   "execution_count": 3,
   "metadata": {},
   "outputs": [],
   "source": [
    "import pandas as pd\n",
    "import numpy as np"
   ]
  },
  {
   "attachments": {},
   "cell_type": "markdown",
   "metadata": {},
   "source": [
    "# 统计数据信息"
   ]
  },
  {
   "cell_type": "code",
   "execution_count": 25,
   "metadata": {},
   "outputs": [
    {
     "name": "stdout",
     "output_type": "stream",
     "text": [
      "Index(['Unnamed: 0', '日期', '出水COD', '出水TN', '出水TP', '出水氨氮', '出水NO3-',\n",
      "       '6-1号生物池好氧段MLSS', '6-1号生物池缺氧段MLSS', '6-1号生物池厌氧段MLSS', '6-1号生物池缺氧段OPR',\n",
      "       '6-1号生物池厌氧段OPR', '6-1生物池DO1', '6-1生物池DO2', '6-1生物池DO3', '6-1生物池DO4',\n",
      "       '6-1号生物池好氧段NO3', '进水COD', '进水PH', '进水温度', '进水氨氮', '进水TP', '进水TN',\n",
      "       '进水SS', '1号生物反应池瞬时流量', '6-1好氧段曝气量1', '6-1好氧段曝气量2', '6-1好氧段曝气量3',\n",
      "       '6-1好氧段曝气量4', '7-1外回流流量1', '内回流流量1', '生物池DO', '好氧段曝气量'],\n",
      "      dtype='object')\n"
     ]
    }
   ],
   "source": [
    "data = pd.read_csv('data.csv')\n",
    "DOdata=data[['6-1生物池DO1','6-1生物池DO2','6-1生物池DO3','6-1生物池DO4']].mean(axis=1)\n",
    "data['生物池DO']=DOdata\n",
    "DOdata=data[['6-1好氧段曝气量1','6-1好氧段曝气量2','6-1好氧段曝气量3','6-1好氧段曝气量4']].mean(axis=1)\n",
    "data['好氧段曝气量']=DOdata\n",
    "print(data.columns)"
   ]
  },
  {
   "cell_type": "code",
   "execution_count": 26,
   "metadata": {},
   "outputs": [],
   "source": [
    "list_name={'state':['6-1号生物池好氧段MLSS','6-1号生物池厌氧段MLSS','6-1号生物池缺氧段MLSS','6-1号生物池厌氧段OPR','6-1号生物池缺氧段OPR',\n",
    "                    '6-1号生物池好氧段NO3','生物池DO'],\n",
    "           'control':['好氧段曝气量','7-1外回流流量1','内回流流量1'],\n",
    "           'inflow':['进水COD','进水TN','进水TP','进水温度','进水SS','1号生物反应池瞬时流量'],\n",
    "           'outflow':['出水COD','出水TN','出水TP','出水氨氮','出水NO3-']\n",
    "}"
   ]
  },
  {
   "cell_type": "code",
   "execution_count": 27,
   "metadata": {},
   "outputs": [],
   "source": [
    "maxd=data.max()\n",
    "mind=data.min()\n",
    "aved=data.mean()\n",
    "medd=data.median()\n",
    "tem=[]\n",
    "for key in list_name.keys():\n",
    "    for it in list_name[key]:\n",
    "        tem.append([maxd[it],mind[it],aved[it],medd[it]])\n",
    "pd.DataFrame(tem).to_csv('Table1.csv')"
   ]
  }
 ],
 "metadata": {
  "kernelspec": {
   "display_name": "base",
   "language": "python",
   "name": "python3"
  },
  "language_info": {
   "codemirror_mode": {
    "name": "ipython",
    "version": 3
   },
   "file_extension": ".py",
   "mimetype": "text/x-python",
   "name": "python",
   "nbconvert_exporter": "python",
   "pygments_lexer": "ipython3",
   "version": "3.8.5"
  },
  "orig_nbformat": 4
 },
 "nbformat": 4,
 "nbformat_minor": 2
}
